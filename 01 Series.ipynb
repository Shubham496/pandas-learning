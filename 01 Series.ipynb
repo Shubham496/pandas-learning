{
 "cells": [
  {
   "cell_type": "markdown",
   "id": "c9b736ca-4d1a-418d-b184-0e6ab8adc7bf",
   "metadata": {},
   "source": [
    "# Pandas"
   ]
  },
  {
   "cell_type": "markdown",
   "id": "d81aca17-4c5f-4aa3-bf7b-0b3e043e8c4b",
   "metadata": {},
   "source": [
    "#### Library to work with table data"
   ]
  },
  {
   "cell_type": "code",
   "execution_count": 1,
   "id": "9d4866af-0337-4aa5-973c-291e4292651d",
   "metadata": {},
   "outputs": [
    {
     "name": "stdout",
     "output_type": "stream",
     "text": [
      "Requirement already satisfied: pandas in c:\\users\\hp\\anaconda3\\lib\\site-packages (2.2.2)\n",
      "Requirement already satisfied: numpy>=1.26.0 in c:\\users\\hp\\anaconda3\\lib\\site-packages (from pandas) (1.26.4)\n",
      "Requirement already satisfied: python-dateutil>=2.8.2 in c:\\users\\hp\\anaconda3\\lib\\site-packages (from pandas) (2.9.0.post0)\n",
      "Requirement already satisfied: pytz>=2020.1 in c:\\users\\hp\\anaconda3\\lib\\site-packages (from pandas) (2024.1)\n",
      "Requirement already satisfied: tzdata>=2022.7 in c:\\users\\hp\\anaconda3\\lib\\site-packages (from pandas) (2023.3)\n",
      "Requirement already satisfied: six>=1.5 in c:\\users\\hp\\anaconda3\\lib\\site-packages (from python-dateutil>=2.8.2->pandas) (1.16.0)\n",
      "Note: you may need to restart the kernel to use updated packages.\n"
     ]
    }
   ],
   "source": [
    "pip install pandas"
   ]
  },
  {
   "cell_type": "markdown",
   "id": "585380bc-4455-42db-8488-62d5fa3517d5",
   "metadata": {},
   "source": [
    "#### Series"
   ]
  },
  {
   "cell_type": "code",
   "execution_count": 2,
   "id": "22c71ba1-9b00-48fe-a247-54fbe0856fee",
   "metadata": {},
   "outputs": [],
   "source": [
    "li = ['shubham', 'abhi', 'akash']"
   ]
  },
  {
   "cell_type": "code",
   "execution_count": 3,
   "id": "21bc692c-0b02-4987-ac9b-97a11a2e4476",
   "metadata": {},
   "outputs": [],
   "source": [
    "import numpy as np\n",
    "import pandas as pd"
   ]
  },
  {
   "cell_type": "code",
   "execution_count": 32,
   "id": "5e716f48-3819-4377-bd28-3e478e32390d",
   "metadata": {},
   "outputs": [],
   "source": [
    "a = pd.Series(li)"
   ]
  },
  {
   "cell_type": "code",
   "execution_count": 12,
   "id": "0c7492af-7708-49ff-af7c-15455e2a10ab",
   "metadata": {},
   "outputs": [],
   "source": [
    "b = pd.Series(li, index=[\"A\", \"B\", \"C\"], name=\"name\")"
   ]
  },
  {
   "cell_type": "code",
   "execution_count": 13,
   "id": "1e34e9ab-dceb-4558-a6e3-dfdc93355178",
   "metadata": {},
   "outputs": [
    {
     "data": {
      "text/plain": [
       "A    shubham\n",
       "B       abhi\n",
       "C      akash\n",
       "Name: name, dtype: object"
      ]
     },
     "execution_count": 13,
     "metadata": {},
     "output_type": "execute_result"
    }
   ],
   "source": [
    "b"
   ]
  },
  {
   "cell_type": "code",
   "execution_count": 29,
   "id": "4fda9ae4-4298-4083-89e0-25deb4277c25",
   "metadata": {},
   "outputs": [],
   "source": [
    "c = pd.Series([\"math\", 'science', 'english'], index=\"A B C\".split() , name=\"Subjects\")"
   ]
  },
  {
   "cell_type": "code",
   "execution_count": 30,
   "id": "9226b648-d6ea-4102-8ee9-a839c54b4cd8",
   "metadata": {},
   "outputs": [
    {
     "data": {
      "text/plain": [
       "A       math\n",
       "B    science\n",
       "C    english\n",
       "Name: Subjects, dtype: object"
      ]
     },
     "execution_count": 30,
     "metadata": {},
     "output_type": "execute_result"
    }
   ],
   "source": [
    "c"
   ]
  },
  {
   "cell_type": "code",
   "execution_count": 31,
   "id": "cd48600e-cb28-4b57-a145-a51584cb7c67",
   "metadata": {},
   "outputs": [
    {
     "data": {
      "text/plain": [
       "'english'"
      ]
     },
     "execution_count": 31,
     "metadata": {},
     "output_type": "execute_result"
    }
   ],
   "source": [
    "c[\"C\"]"
   ]
  },
  {
   "cell_type": "markdown",
   "id": "36c77161-ae30-4361-a43d-4e35759591bd",
   "metadata": {},
   "source": [
    "#### Series with dictionary"
   ]
  },
  {
   "cell_type": "code",
   "execution_count": 33,
   "id": "1a9a4a2c-5a6a-4ac4-9b5a-0bf3d76e10e4",
   "metadata": {},
   "outputs": [],
   "source": [
    "d = {\"city\": [\"delhi\", 'chd', 'agra']}"
   ]
  },
  {
   "cell_type": "code",
   "execution_count": 36,
   "id": "89e14dd1-5f71-4e08-b9a5-412fd04829d8",
   "metadata": {},
   "outputs": [
    {
     "data": {
      "text/plain": [
       "0    delhi\n",
       "1      chd\n",
       "2     agra\n",
       "Name: city, dtype: object"
      ]
     },
     "execution_count": 36,
     "metadata": {},
     "output_type": "execute_result"
    }
   ],
   "source": [
    "pd.Series(d[\"city\"], name=\"city\")"
   ]
  },
  {
   "cell_type": "code",
   "execution_count": null,
   "id": "8acd3624-195b-4c9e-aff7-0b63f9574821",
   "metadata": {},
   "outputs": [],
   "source": []
  },
  {
   "cell_type": "code",
   "execution_count": 38,
   "id": "5e4e9aec-ed51-4480-81b5-31ddd6ad1d79",
   "metadata": {},
   "outputs": [
    {
     "data": {
      "text/plain": [
       "A    shubham\n",
       "B       abhi\n",
       "C      akash\n",
       "Name: name, dtype: object"
      ]
     },
     "execution_count": 38,
     "metadata": {},
     "output_type": "execute_result"
    }
   ],
   "source": [
    "b"
   ]
  },
  {
   "cell_type": "code",
   "execution_count": 39,
   "id": "417df462-4fcb-47f9-8002-6f7ec9412942",
   "metadata": {},
   "outputs": [],
   "source": [
    "e = pd.Series([50, 20, 60], index=\"A B C\".split(), name=\"marks\")"
   ]
  },
  {
   "cell_type": "code",
   "execution_count": 40,
   "id": "aa874f3b-2aa0-4c70-ba96-f7e1353230e8",
   "metadata": {},
   "outputs": [
    {
     "data": {
      "text/plain": [
       "A    50\n",
       "B    20\n",
       "C    60\n",
       "Name: marks, dtype: int64"
      ]
     },
     "execution_count": 40,
     "metadata": {},
     "output_type": "execute_result"
    }
   ],
   "source": [
    "e"
   ]
  },
  {
   "cell_type": "code",
   "execution_count": 43,
   "id": "1961eb19-1e3c-4904-9e69-e105fde9f8d9",
   "metadata": {},
   "outputs": [],
   "source": [
    "f = pd.Series([5.5, 2.4, 6.9], index=[\"A\", \"B\" , \"C\"], name=\"inputs\")"
   ]
  },
  {
   "cell_type": "code",
   "execution_count": 44,
   "id": "7993f980-3adb-490e-9f71-11fa03ed36ce",
   "metadata": {},
   "outputs": [
    {
     "data": {
      "text/plain": [
       "A    5.5\n",
       "B    2.4\n",
       "C    6.9\n",
       "Name: inputs, dtype: float64"
      ]
     },
     "execution_count": 44,
     "metadata": {},
     "output_type": "execute_result"
    }
   ],
   "source": [
    "f"
   ]
  },
  {
   "cell_type": "code",
   "execution_count": 46,
   "id": "e49e2576-5378-4cb7-b2e1-a9cbe81b9267",
   "metadata": {},
   "outputs": [],
   "source": [
    "g = pd.Series([True, False], index=[\"A\", \"B\" ], name=\"types\")"
   ]
  },
  {
   "cell_type": "code",
   "execution_count": 47,
   "id": "fc6de003-de69-419d-80eb-77614e3f9082",
   "metadata": {},
   "outputs": [
    {
     "data": {
      "text/plain": [
       "A     True\n",
       "B    False\n",
       "Name: types, dtype: bool"
      ]
     },
     "execution_count": 47,
     "metadata": {},
     "output_type": "execute_result"
    }
   ],
   "source": [
    "g"
   ]
  },
  {
   "cell_type": "markdown",
   "id": "a659cd09-5ec4-4e09-bea5-fc291e558373",
   "metadata": {},
   "source": [
    "#### methods and attributes"
   ]
  },
  {
   "cell_type": "code",
   "execution_count": 48,
   "id": "d7c6c908-ac9f-4c40-8e66-ad796693cbb6",
   "metadata": {},
   "outputs": [
    {
     "data": {
      "text/plain": [
       "A    5.5\n",
       "B    2.4\n",
       "C    6.9\n",
       "Name: inputs, dtype: float64"
      ]
     },
     "execution_count": 48,
     "metadata": {},
     "output_type": "execute_result"
    }
   ],
   "source": [
    "f"
   ]
  },
  {
   "cell_type": "code",
   "execution_count": 49,
   "id": "7edf46fb-4ca5-4b47-b05c-8b83cdf8c7a1",
   "metadata": {},
   "outputs": [
    {
     "data": {
      "text/plain": [
       "array([5.5, 2.4, 6.9])"
      ]
     },
     "execution_count": 49,
     "metadata": {},
     "output_type": "execute_result"
    }
   ],
   "source": [
    "f.values"
   ]
  },
  {
   "cell_type": "code",
   "execution_count": 50,
   "id": "7c332f8d-e68a-4d53-8b67-5072e11c7526",
   "metadata": {},
   "outputs": [
    {
     "data": {
      "text/plain": [
       "Index(['A', 'B', 'C'], dtype='object')"
      ]
     },
     "execution_count": 50,
     "metadata": {},
     "output_type": "execute_result"
    }
   ],
   "source": [
    "f.index"
   ]
  },
  {
   "cell_type": "code",
   "execution_count": 53,
   "id": "598d57fd-8946-487b-b17c-45542baa9056",
   "metadata": {},
   "outputs": [
    {
     "data": {
      "text/plain": [
       "dtype('float64')"
      ]
     },
     "execution_count": 53,
     "metadata": {},
     "output_type": "execute_result"
    }
   ],
   "source": [
    "f.dtype"
   ]
  },
  {
   "cell_type": "code",
   "execution_count": 55,
   "id": "19b1f181-2624-484a-83b6-ecaffde1ebc4",
   "metadata": {},
   "outputs": [
    {
     "data": {
      "text/plain": [
       "3"
      ]
     },
     "execution_count": 55,
     "metadata": {},
     "output_type": "execute_result"
    }
   ],
   "source": [
    "f.count()"
   ]
  },
  {
   "cell_type": "code",
   "execution_count": 56,
   "id": "469d2ef3-4956-4972-bf2d-db2ec7aaba65",
   "metadata": {},
   "outputs": [
    {
     "data": {
      "text/plain": [
       "14.8"
      ]
     },
     "execution_count": 56,
     "metadata": {},
     "output_type": "execute_result"
    }
   ],
   "source": [
    "f.sum()"
   ]
  },
  {
   "cell_type": "code",
   "execution_count": 57,
   "id": "d4a9ec28-3d5e-46ea-99c8-5e1479aa66f0",
   "metadata": {},
   "outputs": [
    {
     "data": {
      "text/plain": [
       "2.4"
      ]
     },
     "execution_count": 57,
     "metadata": {},
     "output_type": "execute_result"
    }
   ],
   "source": [
    "f.min()"
   ]
  },
  {
   "cell_type": "code",
   "execution_count": 58,
   "id": "7cfab70d-93a7-4ad5-8ca3-e8e0aadd4262",
   "metadata": {},
   "outputs": [
    {
     "data": {
      "text/plain": [
       "6.9"
      ]
     },
     "execution_count": 58,
     "metadata": {},
     "output_type": "execute_result"
    }
   ],
   "source": [
    "f.max()"
   ]
  },
  {
   "cell_type": "code",
   "execution_count": 60,
   "id": "50d29873-e2a9-4bcd-b31d-d40776683b78",
   "metadata": {},
   "outputs": [
    {
     "data": {
      "text/plain": [
       "(3,)"
      ]
     },
     "execution_count": 60,
     "metadata": {},
     "output_type": "execute_result"
    }
   ],
   "source": [
    "f.shape"
   ]
  },
  {
   "cell_type": "code",
   "execution_count": 61,
   "id": "4a25c33c-a846-4280-99d6-48bb42cf85cd",
   "metadata": {},
   "outputs": [
    {
     "data": {
      "text/plain": [
       "3"
      ]
     },
     "execution_count": 61,
     "metadata": {},
     "output_type": "execute_result"
    }
   ],
   "source": [
    "f.size"
   ]
  },
  {
   "cell_type": "code",
   "execution_count": 63,
   "id": "57c0b3f5-e02c-4066-88d1-3c4981a8f654",
   "metadata": {},
   "outputs": [
    {
     "data": {
      "text/plain": [
       "A    10.5\n",
       "B     7.4\n",
       "C    11.9\n",
       "Name: inputs, dtype: float64"
      ]
     },
     "execution_count": 63,
     "metadata": {},
     "output_type": "execute_result"
    }
   ],
   "source": [
    "f +  5"
   ]
  },
  {
   "cell_type": "code",
   "execution_count": 64,
   "id": "6f9478cc-df74-45dc-b0d0-e017aa55c303",
   "metadata": {},
   "outputs": [
    {
     "data": {
      "text/plain": [
       "A    11.0\n",
       "B     4.8\n",
       "C    13.8\n",
       "Name: inputs, dtype: float64"
      ]
     },
     "execution_count": 64,
     "metadata": {},
     "output_type": "execute_result"
    }
   ],
   "source": [
    "f* 2"
   ]
  },
  {
   "cell_type": "code",
   "execution_count": 65,
   "id": "c20aa64d-f3c0-4889-8932-f48b8b6ab375",
   "metadata": {},
   "outputs": [
    {
     "data": {
      "text/plain": [
       "A    5.5\n",
       "B    2.4\n",
       "C    6.9\n",
       "Name: inputs, dtype: float64"
      ]
     },
     "execution_count": 65,
     "metadata": {},
     "output_type": "execute_result"
    }
   ],
   "source": [
    "f"
   ]
  },
  {
   "cell_type": "code",
   "execution_count": null,
   "id": "c30c098e-55c3-4404-9222-0054ad49c468",
   "metadata": {},
   "outputs": [],
   "source": []
  }
 ],
 "metadata": {
  "kernelspec": {
   "display_name": "Python 3 (ipykernel)",
   "language": "python",
   "name": "python3"
  },
  "language_info": {
   "codemirror_mode": {
    "name": "ipython",
    "version": 3
   },
   "file_extension": ".py",
   "mimetype": "text/x-python",
   "name": "python",
   "nbconvert_exporter": "python",
   "pygments_lexer": "ipython3",
   "version": "3.12.7"
  }
 },
 "nbformat": 4,
 "nbformat_minor": 5
}
