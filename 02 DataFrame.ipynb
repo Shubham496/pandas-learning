{
 "cells": [
  {
   "cell_type": "markdown",
   "id": "c0d87803-a7bd-4827-a327-4dfe9d3c8657",
   "metadata": {},
   "source": [
    "#### Data frame - table"
   ]
  },
  {
   "cell_type": "markdown",
   "id": "9864c715-9de9-4a51-b669-39bfb3c9a26c",
   "metadata": {},
   "source": [
    "#### Series - row or column"
   ]
  },
  {
   "cell_type": "code",
   "execution_count": 1,
   "id": "12105d44-66aa-4e79-8de0-bd7076d2921e",
   "metadata": {},
   "outputs": [],
   "source": [
    "import numpy as np\n",
    "import pandas as pd"
   ]
  },
  {
   "cell_type": "code",
   "execution_count": 2,
   "id": "d85fea4a-1822-4114-9b00-48882411ea6c",
   "metadata": {},
   "outputs": [],
   "source": [
    "a = ['shubham', 'abhi', 'akash']"
   ]
  },
  {
   "cell_type": "code",
   "execution_count": 4,
   "id": "550aecc1-35c0-4ca2-aeea-3101a40bc4b9",
   "metadata": {},
   "outputs": [],
   "source": [
    "a = pd.DataFrame(a)"
   ]
  },
  {
   "cell_type": "code",
   "execution_count": 5,
   "id": "3c63d7fd-0531-466a-be11-def63a95f041",
   "metadata": {},
   "outputs": [
    {
     "data": {
      "text/html": [
       "<div>\n",
       "<style scoped>\n",
       "    .dataframe tbody tr th:only-of-type {\n",
       "        vertical-align: middle;\n",
       "    }\n",
       "\n",
       "    .dataframe tbody tr th {\n",
       "        vertical-align: top;\n",
       "    }\n",
       "\n",
       "    .dataframe thead th {\n",
       "        text-align: right;\n",
       "    }\n",
       "</style>\n",
       "<table border=\"1\" class=\"dataframe\">\n",
       "  <thead>\n",
       "    <tr style=\"text-align: right;\">\n",
       "      <th></th>\n",
       "      <th>0</th>\n",
       "    </tr>\n",
       "  </thead>\n",
       "  <tbody>\n",
       "    <tr>\n",
       "      <th>0</th>\n",
       "      <td>shubham</td>\n",
       "    </tr>\n",
       "    <tr>\n",
       "      <th>1</th>\n",
       "      <td>abhi</td>\n",
       "    </tr>\n",
       "    <tr>\n",
       "      <th>2</th>\n",
       "      <td>akash</td>\n",
       "    </tr>\n",
       "  </tbody>\n",
       "</table>\n",
       "</div>"
      ],
      "text/plain": [
       "         0\n",
       "0  shubham\n",
       "1     abhi\n",
       "2    akash"
      ]
     },
     "execution_count": 5,
     "metadata": {},
     "output_type": "execute_result"
    }
   ],
   "source": [
    "a "
   ]
  },
  {
   "cell_type": "code",
   "execution_count": 6,
   "id": "2f777a79-900a-49ed-9a75-7c2f95929c39",
   "metadata": {},
   "outputs": [],
   "source": [
    "b = ['shubham', 'abhi', 'akash']"
   ]
  },
  {
   "cell_type": "code",
   "execution_count": 8,
   "id": "733a6b21-1b66-4c02-a69e-0aace8e8c66a",
   "metadata": {},
   "outputs": [],
   "source": [
    "b = pd.DataFrame(b, index=[\"A\", \"B\", \"C\"], columns=[\"students\"])"
   ]
  },
  {
   "cell_type": "code",
   "execution_count": 9,
   "id": "0ed43223-c748-44e0-a5cb-c4dc30520dab",
   "metadata": {},
   "outputs": [
    {
     "data": {
      "text/html": [
       "<div>\n",
       "<style scoped>\n",
       "    .dataframe tbody tr th:only-of-type {\n",
       "        vertical-align: middle;\n",
       "    }\n",
       "\n",
       "    .dataframe tbody tr th {\n",
       "        vertical-align: top;\n",
       "    }\n",
       "\n",
       "    .dataframe thead th {\n",
       "        text-align: right;\n",
       "    }\n",
       "</style>\n",
       "<table border=\"1\" class=\"dataframe\">\n",
       "  <thead>\n",
       "    <tr style=\"text-align: right;\">\n",
       "      <th></th>\n",
       "      <th>students</th>\n",
       "    </tr>\n",
       "  </thead>\n",
       "  <tbody>\n",
       "    <tr>\n",
       "      <th>A</th>\n",
       "      <td>shubham</td>\n",
       "    </tr>\n",
       "    <tr>\n",
       "      <th>B</th>\n",
       "      <td>abhi</td>\n",
       "    </tr>\n",
       "    <tr>\n",
       "      <th>C</th>\n",
       "      <td>akash</td>\n",
       "    </tr>\n",
       "  </tbody>\n",
       "</table>\n",
       "</div>"
      ],
      "text/plain": [
       "  students\n",
       "A  shubham\n",
       "B     abhi\n",
       "C    akash"
      ]
     },
     "execution_count": 9,
     "metadata": {},
     "output_type": "execute_result"
    }
   ],
   "source": [
    "b"
   ]
  },
  {
   "cell_type": "code",
   "execution_count": 12,
   "id": "c1786e6a-eb5e-4603-91e3-57156cc0750a",
   "metadata": {},
   "outputs": [
    {
     "data": {
      "text/plain": [
       "pandas.core.frame.DataFrame"
      ]
     },
     "execution_count": 12,
     "metadata": {},
     "output_type": "execute_result"
    }
   ],
   "source": [
    "type(b)"
   ]
  },
  {
   "cell_type": "code",
   "execution_count": 11,
   "id": "ca239260-5635-4d62-a2a7-630668622926",
   "metadata": {},
   "outputs": [
    {
     "data": {
      "text/plain": [
       "pandas.core.series.Series"
      ]
     },
     "execution_count": 11,
     "metadata": {},
     "output_type": "execute_result"
    }
   ],
   "source": [
    "type(b['students'])"
   ]
  },
  {
   "cell_type": "markdown",
   "id": "e1f47814-6a89-490b-a499-7f2e7afa15af",
   "metadata": {},
   "source": [
    "#### multiple series"
   ]
  },
  {
   "cell_type": "code",
   "execution_count": 13,
   "id": "13734c33-f56c-42a1-8317-9f21160099b2",
   "metadata": {},
   "outputs": [],
   "source": [
    "names = ['shubham', 'abhi', 'akash']\n",
    "marks = [50, 20, 60]"
   ]
  },
  {
   "cell_type": "code",
   "execution_count": 15,
   "id": "d7245c80-3a91-4b09-816a-75c1cbd443f2",
   "metadata": {},
   "outputs": [
    {
     "data": {
      "text/html": [
       "<div>\n",
       "<style scoped>\n",
       "    .dataframe tbody tr th:only-of-type {\n",
       "        vertical-align: middle;\n",
       "    }\n",
       "\n",
       "    .dataframe tbody tr th {\n",
       "        vertical-align: top;\n",
       "    }\n",
       "\n",
       "    .dataframe thead th {\n",
       "        text-align: right;\n",
       "    }\n",
       "</style>\n",
       "<table border=\"1\" class=\"dataframe\">\n",
       "  <thead>\n",
       "    <tr style=\"text-align: right;\">\n",
       "      <th></th>\n",
       "      <th>0</th>\n",
       "      <th>1</th>\n",
       "      <th>2</th>\n",
       "    </tr>\n",
       "  </thead>\n",
       "  <tbody>\n",
       "    <tr>\n",
       "      <th>0</th>\n",
       "      <td>shubham</td>\n",
       "      <td>abhi</td>\n",
       "      <td>akash</td>\n",
       "    </tr>\n",
       "    <tr>\n",
       "      <th>1</th>\n",
       "      <td>50</td>\n",
       "      <td>20</td>\n",
       "      <td>60</td>\n",
       "    </tr>\n",
       "  </tbody>\n",
       "</table>\n",
       "</div>"
      ],
      "text/plain": [
       "         0     1      2\n",
       "0  shubham  abhi  akash\n",
       "1       50    20     60"
      ]
     },
     "execution_count": 15,
     "metadata": {},
     "output_type": "execute_result"
    }
   ],
   "source": [
    "pd.DataFrame([names, marks] )"
   ]
  },
  {
   "cell_type": "code",
   "execution_count": 18,
   "id": "aa8918be-efc5-4c8d-8e81-ad8219f82505",
   "metadata": {},
   "outputs": [
    {
     "data": {
      "text/html": [
       "<div>\n",
       "<style scoped>\n",
       "    .dataframe tbody tr th:only-of-type {\n",
       "        vertical-align: middle;\n",
       "    }\n",
       "\n",
       "    .dataframe tbody tr th {\n",
       "        vertical-align: top;\n",
       "    }\n",
       "\n",
       "    .dataframe thead th {\n",
       "        text-align: right;\n",
       "    }\n",
       "</style>\n",
       "<table border=\"1\" class=\"dataframe\">\n",
       "  <thead>\n",
       "    <tr style=\"text-align: right;\">\n",
       "      <th></th>\n",
       "      <th>0</th>\n",
       "    </tr>\n",
       "  </thead>\n",
       "  <tbody>\n",
       "    <tr>\n",
       "      <th>50</th>\n",
       "      <td>shubham</td>\n",
       "    </tr>\n",
       "    <tr>\n",
       "      <th>20</th>\n",
       "      <td>abhi</td>\n",
       "    </tr>\n",
       "    <tr>\n",
       "      <th>60</th>\n",
       "      <td>akash</td>\n",
       "    </tr>\n",
       "  </tbody>\n",
       "</table>\n",
       "</div>"
      ],
      "text/plain": [
       "          0\n",
       "50  shubham\n",
       "20     abhi\n",
       "60    akash"
      ]
     },
     "execution_count": 18,
     "metadata": {},
     "output_type": "execute_result"
    }
   ],
   "source": [
    "pd.DataFrame(names, marks )"
   ]
  },
  {
   "cell_type": "code",
   "execution_count": 19,
   "id": "151ed191-6467-4a42-92c6-570dabdb8097",
   "metadata": {},
   "outputs": [],
   "source": [
    "# DataFrame(data=None, index: 'Axes | None' = None, columns: 'Axes | None' = None, dtype: 'Dtype | None' = None, copy: 'bool | None' = None) -> 'None'\n"
   ]
  },
  {
   "cell_type": "code",
   "execution_count": 29,
   "id": "c947fd2d-6245-4213-b93e-273e1a70fe10",
   "metadata": {},
   "outputs": [],
   "source": [
    "row1 = [\"shubham\", 30, 'doctor', 90.4]\n",
    "row2 = [\"abhi\", 26, 'cleaner', 45.4]\n",
    "row3 = [\"akash\", 44, 'support', 88.2]"
   ]
  },
  {
   "cell_type": "code",
   "execution_count": 23,
   "id": "bd3778d0-d04f-472d-aba8-30b5c7cda6b8",
   "metadata": {},
   "outputs": [],
   "source": [
    "a = [row1, row2, row3]"
   ]
  },
  {
   "cell_type": "code",
   "execution_count": 24,
   "id": "15d4a055-28eb-4dd4-8d93-d28bdd41f137",
   "metadata": {},
   "outputs": [],
   "source": [
    "b = np.array([row1, row2, row3])"
   ]
  },
  {
   "cell_type": "code",
   "execution_count": 25,
   "id": "9f841ca2-334b-4d74-b56f-7a5efb4a5ec1",
   "metadata": {},
   "outputs": [
    {
     "data": {
      "text/plain": [
       "[['shubham', 30, 'doctor', 90.4],\n",
       " ['abhi', 26, 'cleaner', 45.4],\n",
       " ['akash', 44, 'support', 88.2]]"
      ]
     },
     "execution_count": 25,
     "metadata": {},
     "output_type": "execute_result"
    }
   ],
   "source": [
    "a"
   ]
  },
  {
   "cell_type": "code",
   "execution_count": 26,
   "id": "418ac9cb-bc55-4067-9396-eb86aadfe075",
   "metadata": {},
   "outputs": [
    {
     "data": {
      "text/plain": [
       "array([['shubham', '30', 'doctor', '90.4'],\n",
       "       ['abhi', '26', 'cleaner', '45.4'],\n",
       "       ['akash', '44', 'support', '88.2']], dtype='<U32')"
      ]
     },
     "execution_count": 26,
     "metadata": {},
     "output_type": "execute_result"
    }
   ],
   "source": [
    "b"
   ]
  },
  {
   "cell_type": "code",
   "execution_count": 27,
   "id": "108fa89f-5d25-4e83-9f42-89e81ddd070a",
   "metadata": {},
   "outputs": [
    {
     "data": {
      "text/html": [
       "<div>\n",
       "<style scoped>\n",
       "    .dataframe tbody tr th:only-of-type {\n",
       "        vertical-align: middle;\n",
       "    }\n",
       "\n",
       "    .dataframe tbody tr th {\n",
       "        vertical-align: top;\n",
       "    }\n",
       "\n",
       "    .dataframe thead th {\n",
       "        text-align: right;\n",
       "    }\n",
       "</style>\n",
       "<table border=\"1\" class=\"dataframe\">\n",
       "  <thead>\n",
       "    <tr style=\"text-align: right;\">\n",
       "      <th></th>\n",
       "      <th>0</th>\n",
       "      <th>1</th>\n",
       "      <th>2</th>\n",
       "      <th>3</th>\n",
       "    </tr>\n",
       "  </thead>\n",
       "  <tbody>\n",
       "    <tr>\n",
       "      <th>0</th>\n",
       "      <td>shubham</td>\n",
       "      <td>30</td>\n",
       "      <td>doctor</td>\n",
       "      <td>90.4</td>\n",
       "    </tr>\n",
       "    <tr>\n",
       "      <th>1</th>\n",
       "      <td>abhi</td>\n",
       "      <td>26</td>\n",
       "      <td>cleaner</td>\n",
       "      <td>45.4</td>\n",
       "    </tr>\n",
       "    <tr>\n",
       "      <th>2</th>\n",
       "      <td>akash</td>\n",
       "      <td>44</td>\n",
       "      <td>support</td>\n",
       "      <td>88.2</td>\n",
       "    </tr>\n",
       "  </tbody>\n",
       "</table>\n",
       "</div>"
      ],
      "text/plain": [
       "         0   1        2     3\n",
       "0  shubham  30   doctor  90.4\n",
       "1     abhi  26  cleaner  45.4\n",
       "2    akash  44  support  88.2"
      ]
     },
     "execution_count": 27,
     "metadata": {},
     "output_type": "execute_result"
    }
   ],
   "source": [
    "pd.DataFrame(a)"
   ]
  },
  {
   "cell_type": "code",
   "execution_count": 28,
   "id": "2ba0650c-3001-49e5-9c59-fbcb1290f830",
   "metadata": {},
   "outputs": [
    {
     "data": {
      "text/html": [
       "<div>\n",
       "<style scoped>\n",
       "    .dataframe tbody tr th:only-of-type {\n",
       "        vertical-align: middle;\n",
       "    }\n",
       "\n",
       "    .dataframe tbody tr th {\n",
       "        vertical-align: top;\n",
       "    }\n",
       "\n",
       "    .dataframe thead th {\n",
       "        text-align: right;\n",
       "    }\n",
       "</style>\n",
       "<table border=\"1\" class=\"dataframe\">\n",
       "  <thead>\n",
       "    <tr style=\"text-align: right;\">\n",
       "      <th></th>\n",
       "      <th>0</th>\n",
       "      <th>1</th>\n",
       "      <th>2</th>\n",
       "      <th>3</th>\n",
       "    </tr>\n",
       "  </thead>\n",
       "  <tbody>\n",
       "    <tr>\n",
       "      <th>0</th>\n",
       "      <td>shubham</td>\n",
       "      <td>30</td>\n",
       "      <td>doctor</td>\n",
       "      <td>90.4</td>\n",
       "    </tr>\n",
       "    <tr>\n",
       "      <th>1</th>\n",
       "      <td>abhi</td>\n",
       "      <td>26</td>\n",
       "      <td>cleaner</td>\n",
       "      <td>45.4</td>\n",
       "    </tr>\n",
       "    <tr>\n",
       "      <th>2</th>\n",
       "      <td>akash</td>\n",
       "      <td>44</td>\n",
       "      <td>support</td>\n",
       "      <td>88.2</td>\n",
       "    </tr>\n",
       "  </tbody>\n",
       "</table>\n",
       "</div>"
      ],
      "text/plain": [
       "         0   1        2     3\n",
       "0  shubham  30   doctor  90.4\n",
       "1     abhi  26  cleaner  45.4\n",
       "2    akash  44  support  88.2"
      ]
     },
     "execution_count": 28,
     "metadata": {},
     "output_type": "execute_result"
    }
   ],
   "source": [
    "pd.DataFrame(b)"
   ]
  },
  {
   "cell_type": "code",
   "execution_count": 30,
   "id": "79179b79-0b90-4b4f-a3e1-ac61784e6b43",
   "metadata": {},
   "outputs": [],
   "source": [
    "indexes = \"A B C\".split()"
   ]
  },
  {
   "cell_type": "code",
   "execution_count": 34,
   "id": "9f3fc1a1-47b7-4fc5-9a05-081374167ae5",
   "metadata": {},
   "outputs": [],
   "source": [
    "columns = \"name age work weight\".split()"
   ]
  },
  {
   "cell_type": "code",
   "execution_count": 36,
   "id": "6af48f4a-a482-4416-bd03-c64564feb8cb",
   "metadata": {},
   "outputs": [],
   "source": [
    "df = pd.DataFrame(a, index= indexes, columns= columns)"
   ]
  },
  {
   "cell_type": "code",
   "execution_count": 37,
   "id": "ddfa2516-1c1b-4780-a95a-e78ebb49b21e",
   "metadata": {},
   "outputs": [
    {
     "data": {
      "text/html": [
       "<div>\n",
       "<style scoped>\n",
       "    .dataframe tbody tr th:only-of-type {\n",
       "        vertical-align: middle;\n",
       "    }\n",
       "\n",
       "    .dataframe tbody tr th {\n",
       "        vertical-align: top;\n",
       "    }\n",
       "\n",
       "    .dataframe thead th {\n",
       "        text-align: right;\n",
       "    }\n",
       "</style>\n",
       "<table border=\"1\" class=\"dataframe\">\n",
       "  <thead>\n",
       "    <tr style=\"text-align: right;\">\n",
       "      <th></th>\n",
       "      <th>name</th>\n",
       "      <th>age</th>\n",
       "      <th>work</th>\n",
       "      <th>weight</th>\n",
       "    </tr>\n",
       "  </thead>\n",
       "  <tbody>\n",
       "    <tr>\n",
       "      <th>A</th>\n",
       "      <td>shubham</td>\n",
       "      <td>30</td>\n",
       "      <td>doctor</td>\n",
       "      <td>90.4</td>\n",
       "    </tr>\n",
       "    <tr>\n",
       "      <th>B</th>\n",
       "      <td>abhi</td>\n",
       "      <td>26</td>\n",
       "      <td>cleaner</td>\n",
       "      <td>45.4</td>\n",
       "    </tr>\n",
       "    <tr>\n",
       "      <th>C</th>\n",
       "      <td>akash</td>\n",
       "      <td>44</td>\n",
       "      <td>support</td>\n",
       "      <td>88.2</td>\n",
       "    </tr>\n",
       "  </tbody>\n",
       "</table>\n",
       "</div>"
      ],
      "text/plain": [
       "      name  age     work  weight\n",
       "A  shubham   30   doctor    90.4\n",
       "B     abhi   26  cleaner    45.4\n",
       "C    akash   44  support    88.2"
      ]
     },
     "execution_count": 37,
     "metadata": {},
     "output_type": "execute_result"
    }
   ],
   "source": [
    "df"
   ]
  },
  {
   "cell_type": "markdown",
   "id": "bfc49209-4e84-4fb9-bdb4-eb3f17574e4d",
   "metadata": {},
   "source": [
    "#### putting data through dictionary"
   ]
  },
  {
   "cell_type": "code",
   "execution_count": 45,
   "id": "c62b29c7-9c25-4f63-9002-0d37df2b5681",
   "metadata": {},
   "outputs": [],
   "source": [
    "d = {\n",
    "    1: [\"shubham\" , 20, 'netmax', 63.6, \"np\"],\n",
    "    2: [\"abhi\" , 40, 'dev', 65.8, None],\n",
    "    3: [\"akash\" , 50, 'data', 73.1, None]\n",
    "    \n",
    "}"
   ]
  },
  {
   "cell_type": "code",
   "execution_count": 46,
   "id": "80c0ff97-e71a-4e66-8479-9e8a97b8fee9",
   "metadata": {},
   "outputs": [
    {
     "data": {
      "text/html": [
       "<div>\n",
       "<style scoped>\n",
       "    .dataframe tbody tr th:only-of-type {\n",
       "        vertical-align: middle;\n",
       "    }\n",
       "\n",
       "    .dataframe tbody tr th {\n",
       "        vertical-align: top;\n",
       "    }\n",
       "\n",
       "    .dataframe thead th {\n",
       "        text-align: right;\n",
       "    }\n",
       "</style>\n",
       "<table border=\"1\" class=\"dataframe\">\n",
       "  <thead>\n",
       "    <tr style=\"text-align: right;\">\n",
       "      <th></th>\n",
       "      <th>1</th>\n",
       "      <th>2</th>\n",
       "      <th>3</th>\n",
       "    </tr>\n",
       "  </thead>\n",
       "  <tbody>\n",
       "    <tr>\n",
       "      <th>0</th>\n",
       "      <td>shubham</td>\n",
       "      <td>abhi</td>\n",
       "      <td>akash</td>\n",
       "    </tr>\n",
       "    <tr>\n",
       "      <th>1</th>\n",
       "      <td>20</td>\n",
       "      <td>40</td>\n",
       "      <td>50</td>\n",
       "    </tr>\n",
       "    <tr>\n",
       "      <th>2</th>\n",
       "      <td>netmax</td>\n",
       "      <td>dev</td>\n",
       "      <td>data</td>\n",
       "    </tr>\n",
       "    <tr>\n",
       "      <th>3</th>\n",
       "      <td>63.6</td>\n",
       "      <td>65.8</td>\n",
       "      <td>73.1</td>\n",
       "    </tr>\n",
       "    <tr>\n",
       "      <th>4</th>\n",
       "      <td>np</td>\n",
       "      <td>None</td>\n",
       "      <td>None</td>\n",
       "    </tr>\n",
       "  </tbody>\n",
       "</table>\n",
       "</div>"
      ],
      "text/plain": [
       "         1     2      3\n",
       "0  shubham  abhi  akash\n",
       "1       20    40     50\n",
       "2   netmax   dev   data\n",
       "3     63.6  65.8   73.1\n",
       "4       np  None   None"
      ]
     },
     "execution_count": 46,
     "metadata": {},
     "output_type": "execute_result"
    }
   ],
   "source": [
    "pd.DataFrame(d)"
   ]
  },
  {
   "cell_type": "code",
   "execution_count": 48,
   "id": "55cf5ec4-65d6-4303-bf71-78a1c9d0ae52",
   "metadata": {},
   "outputs": [],
   "source": [
    "d = {\n",
    "    \"name\": [\"shubham\" , \"abhi\", \"akash\"],\n",
    "    \"age\": [20, 25, 30],\n",
    "    \"weight\": [63.3, 52.0, 41.7]\n",
    "    \n",
    "}"
   ]
  },
  {
   "cell_type": "code",
   "execution_count": 53,
   "id": "f8c4a1e0-e447-4349-8b4e-9e2e6c90b208",
   "metadata": {},
   "outputs": [],
   "source": [
    "df = pd.DataFrame(d, index=range(100, 103))"
   ]
  },
  {
   "cell_type": "code",
   "execution_count": 54,
   "id": "bc9351dc-9068-44fe-beca-36764b3adffa",
   "metadata": {},
   "outputs": [
    {
     "data": {
      "text/html": [
       "<div>\n",
       "<style scoped>\n",
       "    .dataframe tbody tr th:only-of-type {\n",
       "        vertical-align: middle;\n",
       "    }\n",
       "\n",
       "    .dataframe tbody tr th {\n",
       "        vertical-align: top;\n",
       "    }\n",
       "\n",
       "    .dataframe thead th {\n",
       "        text-align: right;\n",
       "    }\n",
       "</style>\n",
       "<table border=\"1\" class=\"dataframe\">\n",
       "  <thead>\n",
       "    <tr style=\"text-align: right;\">\n",
       "      <th></th>\n",
       "      <th>name</th>\n",
       "      <th>age</th>\n",
       "      <th>weight</th>\n",
       "    </tr>\n",
       "  </thead>\n",
       "  <tbody>\n",
       "    <tr>\n",
       "      <th>100</th>\n",
       "      <td>shubham</td>\n",
       "      <td>20</td>\n",
       "      <td>63.3</td>\n",
       "    </tr>\n",
       "    <tr>\n",
       "      <th>101</th>\n",
       "      <td>abhi</td>\n",
       "      <td>25</td>\n",
       "      <td>52.0</td>\n",
       "    </tr>\n",
       "    <tr>\n",
       "      <th>102</th>\n",
       "      <td>akash</td>\n",
       "      <td>30</td>\n",
       "      <td>41.7</td>\n",
       "    </tr>\n",
       "  </tbody>\n",
       "</table>\n",
       "</div>"
      ],
      "text/plain": [
       "        name  age  weight\n",
       "100  shubham   20    63.3\n",
       "101     abhi   25    52.0\n",
       "102    akash   30    41.7"
      ]
     },
     "execution_count": 54,
     "metadata": {},
     "output_type": "execute_result"
    }
   ],
   "source": [
    "df"
   ]
  },
  {
   "cell_type": "markdown",
   "id": "796fca95-5bae-4a2c-8392-dd1326b9b8d0",
   "metadata": {},
   "source": [
    "#### Reading Files"
   ]
  },
  {
   "cell_type": "code",
   "execution_count": null,
   "id": "deec059b-f6bb-4f43-9e85-d021fb035b24",
   "metadata": {},
   "outputs": [],
   "source": []
  },
  {
   "cell_type": "code",
   "execution_count": null,
   "id": "2d9d221d-c2df-447f-9411-c1f6000a20fc",
   "metadata": {},
   "outputs": [],
   "source": []
  },
  {
   "cell_type": "code",
   "execution_count": null,
   "id": "c2ced14c-c187-447f-8636-44e31acb0461",
   "metadata": {},
   "outputs": [],
   "source": []
  }
 ],
 "metadata": {
  "kernelspec": {
   "display_name": "Python 3 (ipykernel)",
   "language": "python",
   "name": "python3"
  },
  "language_info": {
   "codemirror_mode": {
    "name": "ipython",
    "version": 3
   },
   "file_extension": ".py",
   "mimetype": "text/x-python",
   "name": "python",
   "nbconvert_exporter": "python",
   "pygments_lexer": "ipython3",
   "version": "3.12.7"
  }
 },
 "nbformat": 4,
 "nbformat_minor": 5
}
